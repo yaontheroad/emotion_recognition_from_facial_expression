{
 "cells": [
  {
   "cell_type": "markdown",
   "metadata": {},
   "source": [
    "## IMPORTING LIBRARIES and Defining our directories where files are stored"
   ]
  },
  {
   "cell_type": "code",
   "execution_count": 3,
   "metadata": {
    "execution": {
     "iopub.execute_input": "2021-12-13T11:08:54.68647Z",
     "iopub.status.busy": "2021-12-13T11:08:54.68617Z",
     "iopub.status.idle": "2021-12-13T11:08:55.503557Z",
     "shell.execute_reply": "2021-12-13T11:08:55.502843Z",
     "shell.execute_reply.started": "2021-12-13T11:08:54.686392Z"
    }
   },
   "outputs": [],
   "source": [
    "import pandas as pd\n",
    "import numpy as np\n",
    "import os\n",
    "\n",
    "import matplotlib.pyplot as plt\n",
    "import seaborn as sns"
   ]
  },
  {
   "cell_type": "code",
   "execution_count": 4,
   "metadata": {
    "execution": {
     "iopub.execute_input": "2021-12-13T11:08:55.505628Z",
     "iopub.status.busy": "2021-12-13T11:08:55.505382Z",
     "iopub.status.idle": "2021-12-13T11:09:04.178695Z",
     "shell.execute_reply": "2021-12-13T11:09:04.177809Z",
     "shell.execute_reply.started": "2021-12-13T11:08:55.505592Z"
    }
   },
   "outputs": [
    {
     "name": "stdout",
     "output_type": "stream",
     "text": [
      "Requirement already satisfied: keras in d:\\anaconda\\lib\\site-packages (2.8.0)Note: you may need to restart the kernel to use updated packages.\n",
      "\n"
     ]
    }
   ],
   "source": [
    "pip install keras"
   ]
  },
  {
   "cell_type": "code",
   "execution_count": 5,
   "metadata": {
    "execution": {
     "iopub.execute_input": "2021-12-13T11:09:04.180723Z",
     "iopub.status.busy": "2021-12-13T11:09:04.180434Z",
     "iopub.status.idle": "2021-12-13T11:09:08.673931Z",
     "shell.execute_reply": "2021-12-13T11:09:08.673184Z",
     "shell.execute_reply.started": "2021-12-13T11:09:04.180686Z"
    }
   },
   "outputs": [],
   "source": [
    "import tensorflow as tf\n",
    "import keras"
   ]
  },
  {
   "cell_type": "code",
   "execution_count": 7,
   "metadata": {
    "execution": {
     "iopub.execute_input": "2021-12-13T11:09:08.684729Z",
     "iopub.status.busy": "2021-12-13T11:09:08.684152Z",
     "iopub.status.idle": "2021-12-13T11:09:08.692703Z",
     "shell.execute_reply": "2021-12-13T11:09:08.691855Z",
     "shell.execute_reply.started": "2021-12-13T11:09:08.684692Z"
    }
   },
   "outputs": [],
   "source": [
    "train_dir = 'C:/Users/91053/Downloads/comp6321/comp6321_project/train/'\n",
    "test_dir = 'C:/Users/91053/Downloads/comp6321/comp6321_project/test/'"
   ]
  },
  {
   "cell_type": "code",
   "execution_count": 8,
   "metadata": {
    "execution": {
     "iopub.execute_input": "2021-12-13T11:09:08.694471Z",
     "iopub.status.busy": "2021-12-13T11:09:08.69412Z",
     "iopub.status.idle": "2021-12-13T11:09:08.7017Z",
     "shell.execute_reply": "2021-12-13T11:09:08.701054Z",
     "shell.execute_reply.started": "2021-12-13T11:09:08.694435Z"
    }
   },
   "outputs": [],
   "source": [
    "row=48\n",
    "col=48\n",
    "classes = 7"
   ]
  },
  {
   "cell_type": "markdown",
   "metadata": {},
   "source": [
    "### COUNT EXPRESSION FUNCTION TO STORE NO. OF IMAGES IN A EXPRESSION FOLDER"
   ]
  },
  {
   "cell_type": "code",
   "execution_count": 9,
   "metadata": {
    "execution": {
     "iopub.execute_input": "2021-12-13T11:09:08.703064Z",
     "iopub.status.busy": "2021-12-13T11:09:08.702884Z",
     "iopub.status.idle": "2021-12-13T11:09:08.710588Z",
     "shell.execute_reply": "2021-12-13T11:09:08.709722Z",
     "shell.execute_reply.started": "2021-12-13T11:09:08.703042Z"
    }
   },
   "outputs": [],
   "source": [
    "def count_expression(path,set_):\n",
    "    dict_={}\n",
    "    for expression in os.listdir(path):\n",
    "        dir_ = path + expression\n",
    "        dict_[expression]=len(os.listdir(dir_))\n",
    "\n",
    "    df = pd.DataFrame(dict_,index=[set_])\n",
    "    return df"
   ]
  },
  {
   "cell_type": "code",
   "execution_count": 10,
   "metadata": {
    "execution": {
     "iopub.execute_input": "2021-12-13T11:09:08.712283Z",
     "iopub.status.busy": "2021-12-13T11:09:08.71202Z",
     "iopub.status.idle": "2021-12-13T11:09:10.06183Z",
     "shell.execute_reply": "2021-12-13T11:09:10.061073Z",
     "shell.execute_reply.started": "2021-12-13T11:09:08.712248Z"
    }
   },
   "outputs": [
    {
     "name": "stdout",
     "output_type": "stream",
     "text": [
      "             angry  disgust  fear  happy  neutral   sad  surprise\n",
      "train_count   3995      436  4097   7215     4965  4830      3171\n"
     ]
    }
   ],
   "source": [
    "train_count=count_expression(train_dir,'train_count')\n",
    "print(train_count)"
   ]
  },
  {
   "cell_type": "code",
   "execution_count": 11,
   "metadata": {
    "execution": {
     "iopub.execute_input": "2021-12-13T11:09:10.063503Z",
     "iopub.status.busy": "2021-12-13T11:09:10.063248Z",
     "iopub.status.idle": "2021-12-13T11:09:10.632115Z",
     "shell.execute_reply": "2021-12-13T11:09:10.631363Z",
     "shell.execute_reply.started": "2021-12-13T11:09:10.06347Z"
    }
   },
   "outputs": [
    {
     "name": "stdout",
     "output_type": "stream",
     "text": [
      "      angry  disgust  fear  happy  neutral   sad  surprise\n",
      "test    958      111  1024   1774     1233  1247       831\n"
     ]
    }
   ],
   "source": [
    "test_count=count_expression(test_dir,'test')\n",
    "print(test_count)"
   ]
  },
  {
   "cell_type": "code",
   "execution_count": 12,
   "metadata": {
    "execution": {
     "iopub.execute_input": "2021-12-13T11:09:10.634029Z",
     "iopub.status.busy": "2021-12-13T11:09:10.633445Z",
     "iopub.status.idle": "2021-12-13T11:09:10.91705Z",
     "shell.execute_reply": "2021-12-13T11:09:10.916326Z",
     "shell.execute_reply.started": "2021-12-13T11:09:10.633987Z"
    }
   },
   "outputs": [
    {
     "data": {
      "text/plain": [
       "Text(0.5, 1.0, 'Plot of number of images in train dataset')"
      ]
     },
     "execution_count": 12,
     "metadata": {},
     "output_type": "execute_result"
    },
    {
     "data": {
      "image/png": "[encoded data removed]",
      "text/plain": [
       "<Figure size 432x288 with 1 Axes>"
      ]
     },
     "metadata": {
      "needs_background": "light"
     },
     "output_type": "display_data"
    }
   ],
   "source": [
    "train_count.transpose().plot(kind = \"bar\")\n",
    "plt.title('Plot of number of images in train dataset')"
   ]
  },
  {
   "cell_type": "code",
   "execution_count": 13,
   "metadata": {
    "execution": {
     "iopub.execute_input": "2021-12-13T11:09:10.918815Z",
     "iopub.status.busy": "2021-12-13T11:09:10.918375Z",
     "iopub.status.idle": "2021-12-13T11:09:11.304887Z",
     "shell.execute_reply": "2021-12-13T11:09:11.304184Z",
     "shell.execute_reply.started": "2021-12-13T11:09:10.918774Z"
    }
   },
   "outputs": [
    {
     "data": {
      "text/plain": [
       "Text(0.5, 1.0, 'Plot of number of images in test dataset')"
      ]
     },
     "execution_count": 13,
     "metadata": {},
     "output_type": "execute_result"
    },
    {
     "data": {
      "image/png": "[encoded data removed]",
      "text/plain": [
       "<Figure size 432x288 with 1 Axes>"
      ]
     },
     "metadata": {
      "needs_background": "light"
     },
     "output_type": "display_data"
    }
   ],
   "source": [
    "test_count.transpose().plot(kind = \"bar\")\n",
    "plt.title('Plot of number of images in test dataset')"
   ]
  },
  {
   "cell_type": "code",
   "execution_count": 14,
   "metadata": {
    "execution": {
     "iopub.execute_input": "2021-12-13T11:09:11.306588Z",
     "iopub.status.busy": "2021-12-13T11:09:11.30619Z",
     "iopub.status.idle": "2021-12-13T11:09:11.731781Z",
     "shell.execute_reply": "2021-12-13T11:09:11.731075Z",
     "shell.execute_reply.started": "2021-12-13T11:09:11.306548Z"
    }
   },
   "outputs": [
    {
     "data": {
      "image/png": "[encoded data removed]",
      "text/plain": [
       "<Figure size 1008x1584 with 7 Axes>"
      ]
     },
     "metadata": {
      "needs_background": "light"
     },
     "output_type": "display_data"
    }
   ],
   "source": [
    "plt.figure(figsize=(14,22))\n",
    "i = 1\n",
    "for expression in os.listdir(train_dir):\n",
    "    img = keras.preprocessing.image.load_img((train_dir + expression +'/'+ os.listdir(train_dir + expression)[1]))\n",
    "    plt.subplot(1,7,i)\n",
    "    plt.imshow(img)\n",
    "    plt.title(expression)\n",
    "    plt.axis('off')\n",
    "    i += 1\n",
    "plt.show()"
   ]
  },
  {
   "cell_type": "markdown",
   "metadata": {},
   "source": [
    "## Preprocessing"
   ]
  },
  {
   "cell_type": "code",
   "execution_count": 15,
   "metadata": {
    "execution": {
     "iopub.execute_input": "2021-12-13T11:09:11.733075Z",
     "iopub.status.busy": "2021-12-13T11:09:11.732816Z",
     "iopub.status.idle": "2021-12-13T11:09:12.040463Z",
     "shell.execute_reply": "2021-12-13T11:09:12.039714Z",
     "shell.execute_reply.started": "2021-12-13T11:09:11.73304Z"
    }
   },
   "outputs": [],
   "source": [
    "from keras.preprocessing.image import ImageDataGenerator\n",
    "from keras.layers import Conv2D,Dense, MaxPooling2D,Flatten,Dropout,Activation, BatchNormalization\n",
    "from tensorflow.keras.optimizers import Adam,RMSprop,SGD\n",
    "from keras import regularizers\n",
    "from keras.callbacks import ModelCheckpoint, CSVLogger,TensorBoard,EarlyStopping,ReduceLROnPlateau\n",
    "import datetime\n",
    "from tensorflow.keras.utils import plot_model"
   ]
  },
  {
   "cell_type": "code",
   "execution_count": 16,
   "metadata": {
    "execution": {
     "iopub.execute_input": "2021-12-13T11:09:12.044065Z",
     "iopub.status.busy": "2021-12-13T11:09:12.04384Z",
     "iopub.status.idle": "2021-12-13T11:09:29.65505Z",
     "shell.execute_reply": "2021-12-13T11:09:29.654252Z",
     "shell.execute_reply.started": "2021-12-13T11:09:12.044032Z"
    }
   },
   "outputs": [
    {
     "name": "stdout",
     "output_type": "stream",
     "text": [
      "Found 28709 images belonging to 7 classes.\n",
      "Found 7178 images belonging to 7 classes.\n"
     ]
    }
   ],
   "source": [
    "train_datagen = ImageDataGenerator(rescale=1./255,\n",
    "                                    zoom_range=0.3, \n",
    "                                    horizontal_flip=True)\n",
    "# rotation_range=40,\n",
    "#         width_shift_range=0.2,\n",
    "#         height_shift_range=0.2,\n",
    "#         shear_range=0.2,\n",
    "#         zoom_range=0.2,\n",
    "#         horizontal_flip=True,\n",
    "#         fill_mode='nearest'\n",
    "\n",
    "train_set=train_datagen.flow_from_directory(train_dir,\n",
    "                                            batch_size=64,\n",
    "                                            target_size=(48,48),\n",
    "                                            shuffle=True,\n",
    "                                            color_mode=\"grayscale\",class_mode='categorical')\n",
    "\n",
    "\n",
    "\n",
    "test_datagen = ImageDataGenerator(rescale=1./255)\n",
    "test_set = test_datagen.flow_from_directory(test_dir,\n",
    "                                            batch_size=64,\n",
    "                                            target_size=(48,48),\n",
    "                                            shuffle=True,\n",
    "                                            color_mode=\"grayscale\",class_mode='categorical')"
   ]
  },
  {
   "cell_type": "code",
   "execution_count": 17,
   "metadata": {
    "execution": {
     "iopub.execute_input": "2021-12-13T11:09:29.656795Z",
     "iopub.status.busy": "2021-12-13T11:09:29.656363Z",
     "iopub.status.idle": "2021-12-13T11:09:29.663611Z",
     "shell.execute_reply": "2021-12-13T11:09:29.662862Z",
     "shell.execute_reply.started": "2021-12-13T11:09:29.656755Z"
    }
   },
   "outputs": [
    {
     "data": {
      "text/plain": [
       "{'angry': 0,\n",
       " 'disgust': 1,\n",
       " 'fear': 2,\n",
       " 'happy': 3,\n",
       " 'neutral': 4,\n",
       " 'sad': 5,\n",
       " 'surprise': 6}"
      ]
     },
     "execution_count": 17,
     "metadata": {},
     "output_type": "execute_result"
    }
   ],
   "source": [
    "train_set.class_indices"
   ]
  },
  {
   "cell_type": "markdown",
   "metadata": {},
   "source": [
    "## MODEL-BUILDING"
   ]
  },
  {
   "cell_type": "code",
   "execution_count": 18,
   "metadata": {
    "execution": {
     "iopub.execute_input": "2021-12-13T11:09:29.665962Z",
     "iopub.status.busy": "2021-12-13T11:09:29.665745Z",
     "iopub.status.idle": "2021-12-13T11:09:29.677071Z",
     "shell.execute_reply": "2021-12-13T11:09:29.676387Z",
     "shell.execute_reply.started": "2021-12-13T11:09:29.665937Z"
    }
   },
   "outputs": [],
   "source": [
    "#initalising the CNN model\n",
    "\n",
    "def get_model(input_size, classes=7):\n",
    "     #BUILDING the CNN\n",
    "    model = tf.keras.models.Sequential()   \n",
    "\n",
    "    model.add(Conv2D(32, kernel_size=(3, 3), padding='same', activation='relu', input_shape =input_size))\n",
    "    model.add(Conv2D(64, kernel_size=(3, 3), activation='relu', padding='same'))\n",
    "    model.add(BatchNormalization())\n",
    "    model.add(MaxPooling2D(2, 2))\n",
    "    model.add(Dropout(0.25))\n",
    "\n",
    "    model.add(Conv2D(128, kernel_size=(3, 3), activation='relu', padding='same', kernel_regularizer=regularizers.l2(0.01)))\n",
    "    model.add(Conv2D(256, kernel_size=(3, 3), activation='relu', kernel_regularizer=regularizers.l2(0.01)))\n",
    "    model.add(BatchNormalization())\n",
    "    model.add(MaxPooling2D(pool_size=(2, 2)))\n",
    "    model.add(Dropout(0.25))\n",
    "\n",
    "    model.add(Flatten())\n",
    "    model.add(Dense(1024, activation='relu'))\n",
    "    model.add(Dropout(0.5))\n",
    "    \n",
    "    model.add(Dense(classes, activation='softmax'))\n",
    "\n",
    "    #COMPLILING the CNN\n",
    "    model.compile(optimizer=Adam(learning_rate=0.0001, decay=1e-6), \n",
    "                  loss='categorical_crossentropy', \n",
    "                  metrics=['accuracy'])\n",
    "    return model"
   ]
  },
  {
   "cell_type": "code",
   "execution_count": 19,
   "metadata": {
    "execution": {
     "iopub.execute_input": "2021-12-13T11:09:29.679159Z",
     "iopub.status.busy": "2021-12-13T11:09:29.678543Z",
     "iopub.status.idle": "2021-12-13T11:09:32.194999Z",
     "shell.execute_reply": "2021-12-13T11:09:32.194209Z",
     "shell.execute_reply.started": "2021-12-13T11:09:29.679122Z"
    }
   },
   "outputs": [
    {
     "name": "stdout",
     "output_type": "stream",
     "text": [
      "Model: \"sequential\"\n",
      "_________________________________________________________________\n",
      " Layer (type)                Output Shape              Param #   \n",
      "=================================================================\n",
      " conv2d (Conv2D)             (None, 48, 48, 32)        320       \n",
      "                                                                 \n",
      " conv2d_1 (Conv2D)           (None, 48, 48, 64)        18496     \n",
      "                                                                 \n",
      " batch_normalization (BatchN  (None, 48, 48, 64)       256       \n",
      " ormalization)                                                   \n",
      "                                                                 \n",
      " max_pooling2d (MaxPooling2D  (None, 24, 24, 64)       0         \n",
      " )                                                               \n",
      "                                                                 \n",
      " dropout (Dropout)           (None, 24, 24, 64)        0         \n",
      "                                                                 \n",
      " conv2d_2 (Conv2D)           (None, 24, 24, 128)       73856     \n",
      "                                                                 \n",
      " conv2d_3 (Conv2D)           (None, 22, 22, 256)       295168    \n",
      "                                                                 \n",
      " batch_normalization_1 (Batc  (None, 22, 22, 256)      1024      \n",
      " hNormalization)                                                 \n",
      "                                                                 \n",
      " max_pooling2d_1 (MaxPooling  (None, 11, 11, 256)      0         \n",
      " 2D)                                                             \n",
      "                                                                 \n",
      " dropout_1 (Dropout)         (None, 11, 11, 256)       0         \n",
      "                                                                 \n",
      " flatten (Flatten)           (None, 30976)             0         \n",
      "                                                                 \n",
      " dense (Dense)               (None, 1024)              31720448  \n",
      "                                                                 \n",
      " dropout_2 (Dropout)         (None, 1024)              0         \n",
      "                                                                 \n",
      " dense_1 (Dense)             (None, 7)                 7175      \n",
      "                                                                 \n",
      "=================================================================\n",
      "Total params: 32,116,743\n",
      "Trainable params: 32,116,103\n",
      "Non-trainable params: 640\n",
      "_________________________________________________________________\n"
     ]
    }
   ],
   "source": [
    "our_model = get_model((row,col,1),classes)\n",
    "our_model.summary()"
   ]
  },
  {
   "cell_type": "code",
   "execution_count": 20,
   "metadata": {
    "execution": {
     "iopub.execute_input": "2021-12-13T11:09:32.198284Z",
     "iopub.status.busy": "2021-12-13T11:09:32.198055Z",
     "iopub.status.idle": "2021-12-13T11:09:32.202729Z",
     "shell.execute_reply": "2021-12-13T11:09:32.201954Z",
     "shell.execute_reply.started": "2021-12-13T11:09:32.198257Z"
    }
   },
   "outputs": [],
   "source": [
    "# plot_model(our_model,to_file='Our Model Architecture.png',show_shapes=True,show_layer_names=True)"
   ]
  },
  {
   "cell_type": "code",
   "execution_count": 22,
   "metadata": {
    "execution": {
     "iopub.execute_input": "2021-12-13T11:09:32.204501Z",
     "iopub.status.busy": "2021-12-13T11:09:32.204197Z",
     "iopub.status.idle": "2021-12-13T11:54:29.460535Z",
     "shell.execute_reply": "2021-12-13T11:54:29.459443Z",
     "shell.execute_reply.started": "2021-12-13T11:09:32.204461Z"
    }
   },
   "outputs": [
    {
     "name": "stdout",
     "output_type": "stream",
     "text": [
      "448/448 [==============================] - 228s 509ms/step - loss: 0.9762 - accuracy: 0.6724 - val_loss: 1.1161 - val_accuracy: 0.6253\n"
     ]
    }
   ],
   "source": [
    "\n",
    "steps_per_epoch = train_set.n // train_set.batch_size\n",
    "validation_steps = test_set.n // test_set.batch_size\n",
    "\n",
    "mod = our_model.fit(x=train_set,\n",
    "                 validation_data=test_set,\n",
    "                 epochs=1,\n",
    "                 steps_per_epoch=steps_per_epoch,\n",
    "                 validation_steps=validation_steps)\n",
    "\n"
   ]
  },
  {
   "cell_type": "code",
   "execution_count": 23,
   "metadata": {
    "execution": {
     "iopub.execute_input": "2021-12-13T11:54:29.462595Z",
     "iopub.status.busy": "2021-12-13T11:54:29.462293Z",
     "iopub.status.idle": "2021-12-13T11:54:29.470916Z",
     "shell.execute_reply": "2021-12-13T11:54:29.469878Z",
     "shell.execute_reply.started": "2021-12-13T11:54:29.46256Z"
    }
   },
   "outputs": [],
   "source": [
    "model_json=our_model.to_json()\n",
    "with open(\"model.json\",\"w\") as json_file:\n",
    "    json_file.write(model_json)"
   ]
  },
  {
   "cell_type": "code",
   "execution_count": 24,
   "metadata": {
    "execution": {
     "iopub.execute_input": "2021-12-13T11:54:29.472989Z",
     "iopub.status.busy": "2021-12-13T11:54:29.472223Z",
     "iopub.status.idle": "2021-12-13T11:54:29.744389Z",
     "shell.execute_reply": "2021-12-13T11:54:29.743502Z",
     "shell.execute_reply.started": "2021-12-13T11:54:29.472952Z"
    }
   },
   "outputs": [],
   "source": [
    "our_model.save_weights('model_best_weights.h5')"
   ]
  },
  {
   "cell_type": "markdown",
   "metadata": {},
   "source": [
    "### PERFORMANCE PLOT"
   ]
  },
  {
   "cell_type": "code",
   "execution_count": 25,
   "metadata": {
    "execution": {
     "iopub.execute_input": "2021-12-13T11:54:29.7459Z",
     "iopub.status.busy": "2021-12-13T11:54:29.745605Z",
     "iopub.status.idle": "2021-12-13T11:54:30.118544Z",
     "shell.execute_reply": "2021-12-13T11:54:30.117873Z",
     "shell.execute_reply.started": "2021-12-13T11:54:29.745862Z"
    }
   },
   "outputs": [
    {
     "data": {
      "image/png": "[encoded data removed]",
      "text/plain": [
       "<Figure size 1008x360 with 2 Axes>"
      ]
     },
     "metadata": {
      "needs_background": "light"
     },
     "output_type": "display_data"
    }
   ],
   "source": [
    "plt.figure(figsize=(14,5))\n",
    "plt.subplot(1,2,2)\n",
    "plt.plot(mod.history['accuracy'])\n",
    "plt.plot(mod.history['val_accuracy'])\n",
    "plt.title('Model Accuracy')\n",
    "plt.xlabel('Epochs')\n",
    "plt.ylabel('Accuracy')\n",
    "plt.legend(['train', 'test'], loc='upper left')\n",
    "\n",
    "plt.subplot(1,2,1)\n",
    "plt.plot(mod.history['loss'])\n",
    "plt.plot(mod.history['val_loss'])\n",
    "plt.title('model Loss')\n",
    "plt.xlabel('Epochs')\n",
    "plt.ylabel('Loss')\n",
    "plt.legend(['train', 'test'], loc='upper left')\n",
    "plt.show()"
   ]
  },
  {
   "cell_type": "code",
   "execution_count": null,
   "metadata": {
    "execution": {
     "iopub.execute_input": "2021-12-13T11:54:30.120332Z",
     "iopub.status.busy": "2021-12-13T11:54:30.120052Z",
     "iopub.status.idle": "2021-12-13T11:55:05.17412Z",
     "shell.execute_reply": "2021-12-13T11:55:05.173371Z",
     "shell.execute_reply.started": "2021-12-13T11:54:30.120294Z"
    }
   },
   "outputs": [
    {
     "name": "stdout",
     "output_type": "stream",
     "text": [
      "294/449 [==================>...........] - ETA: 15s - loss: 0.8362 - accuracy: 0.7355"
     ]
    }
   ],
   "source": [
    "train_loss, train_accu = our_model.evaluate(train_set)\n",
    "test_loss, test_accu = our_model.evaluate(test_set)\n",
    "print(\"final train accuracy = {:.2f} , validation accuracy = {:.2f}\".format(train_accu*100, test_accu*100))"
   ]
  },
  {
   "cell_type": "code",
   "execution_count": null,
   "metadata": {
    "execution": {
     "iopub.execute_input": "2021-12-13T11:55:05.175737Z",
     "iopub.status.busy": "2021-12-13T11:55:05.175377Z",
     "iopub.status.idle": "2021-12-13T11:55:33.949215Z",
     "shell.execute_reply": "2021-12-13T11:55:33.94847Z",
     "shell.execute_reply.started": "2021-12-13T11:55:05.175698Z"
    }
   },
   "outputs": [],
   "source": [
    "#ON TRAINING SET\n",
    "y_pred = our_model.predict(train_set)\n",
    "y_pred = np.argmax(y_pred, axis=1)\n",
    "class_labels = test_set.class_indices\n",
    "class_labels = {v:k for k,v in class_labels.items()}\n",
    "\n",
    "from sklearn.metrics import classification_report, confusion_matrix\n",
    "cm_train = confusion_matrix(train_set.classes, y_pred)\n",
    "print('Confusion Matrix')\n",
    "print(cm_train)\n",
    "print('Classification Report')\n",
    "target_names = list(class_labels.values())\n",
    "print(classification_report(train_set.classes, y_pred, target_names=target_names))\n",
    "\n",
    "plt.figure(figsize=(8,8))\n",
    "plt.imshow(cm_train, interpolation='nearest')\n",
    "plt.colorbar()\n",
    "tick_mark = np.arange(len(target_names))\n",
    "_ = plt.xticks(tick_mark, target_names, rotation=90)\n",
    "_ = plt.yticks(tick_mark, target_names)"
   ]
  },
  {
   "cell_type": "code",
   "execution_count": null,
   "metadata": {
    "execution": {
     "iopub.execute_input": "2021-12-13T11:55:33.951246Z",
     "iopub.status.busy": "2021-12-13T11:55:33.950476Z",
     "iopub.status.idle": "2021-12-13T11:55:39.461193Z",
     "shell.execute_reply": "2021-12-13T11:55:39.460507Z",
     "shell.execute_reply.started": "2021-12-13T11:55:33.951207Z"
    }
   },
   "outputs": [],
   "source": [
    "#ON TESTING SET\n",
    "y_pred = our_model.predict(test_set)\n",
    "y_pred = np.argmax(y_pred, axis=1)\n",
    "class_labels = test_set.class_indices\n",
    "class_labels = {v:k for k,v in class_labels.items()}\n",
    "\n",
    "#from sklearn.metrics import classification_report, confusion_matrix\n",
    "cm_test = confusion_matrix(test_set.classes, y_pred)\n",
    "print('Confusion Matrix')\n",
    "print(cm_test)\n",
    "print('Classification Report')\n",
    "target_names = list(class_labels.values())\n",
    "print(classification_report(test_set.classes, y_pred, target_names=target_names))\n",
    "\n",
    "plt.figure(figsize=(8,8))\n",
    "plt.imshow(cm_test, interpolation='nearest')\n",
    "plt.colorbar()\n",
    "tick_mark = np.arange(len(target_names))\n",
    "_ = plt.xticks(tick_mark, target_names, rotation=90)\n",
    "_ = plt.yticks(tick_mark, target_names)"
   ]
  }
 ],
 "metadata": {
  "kernelspec": {
   "display_name": "Python 3 (ipykernel)",
   "language": "python",
   "name": "python3"
  },
  "language_info": {
   "codemirror_mode": {
    "name": "ipython",
    "version": 3
   },
   "file_extension": ".py",
   "mimetype": "text/x-python",
   "name": "python",
   "nbconvert_exporter": "python",
   "pygments_lexer": "ipython3",
   "version": "3.9.7"
  }
 },
 "nbformat": 4,
 "nbformat_minor": 4
}
